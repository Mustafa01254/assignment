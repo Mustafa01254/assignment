{
 "cells": [
  {
   "cell_type": "code",
   "execution_count": 1,
   "metadata": {},
   "outputs": [],
   "source": [
    "import pandas as pd\n",
    "import numpy as np"
   ]
  },
  {
   "cell_type": "code",
   "execution_count": 2,
   "metadata": {},
   "outputs": [
    {
     "data": {
      "text/html": [
       "<div>\n",
       "<style scoped>\n",
       "    .dataframe tbody tr th:only-of-type {\n",
       "        vertical-align: middle;\n",
       "    }\n",
       "\n",
       "    .dataframe tbody tr th {\n",
       "        vertical-align: top;\n",
       "    }\n",
       "\n",
       "    .dataframe thead th {\n",
       "        text-align: right;\n",
       "    }\n",
       "</style>\n",
       "<table border=\"1\" class=\"dataframe\">\n",
       "  <thead>\n",
       "    <tr style=\"text-align: right;\">\n",
       "      <th></th>\n",
       "      <th>id</th>\n",
       "      <th>first_name</th>\n",
       "      <th>last_name</th>\n",
       "      <th>age</th>\n",
       "      <th>gender</th>\n",
       "      <th>city</th>\n",
       "      <th>country</th>\n",
       "      <th>ethnicity</th>\n",
       "      <th>income</th>\n",
       "      <th>education_level</th>\n",
       "    </tr>\n",
       "  </thead>\n",
       "  <tbody>\n",
       "    <tr>\n",
       "      <th>0</th>\n",
       "      <td>1</td>\n",
       "      <td>Pavlov</td>\n",
       "      <td>Arber</td>\n",
       "      <td>93</td>\n",
       "      <td>Male</td>\n",
       "      <td>Olival</td>\n",
       "      <td>Portugal</td>\n",
       "      <td>White</td>\n",
       "      <td>349833.30</td>\n",
       "      <td>Associate's Degree</td>\n",
       "    </tr>\n",
       "    <tr>\n",
       "      <th>1</th>\n",
       "      <td>2</td>\n",
       "      <td>Sylas</td>\n",
       "      <td>Timbs</td>\n",
       "      <td>22</td>\n",
       "      <td>Male</td>\n",
       "      <td>Jönköping</td>\n",
       "      <td>Sweden</td>\n",
       "      <td>Hispanic</td>\n",
       "      <td>501974.28</td>\n",
       "      <td>High School</td>\n",
       "    </tr>\n",
       "    <tr>\n",
       "      <th>2</th>\n",
       "      <td>3</td>\n",
       "      <td>Turner</td>\n",
       "      <td>Mountjoy</td>\n",
       "      <td>67</td>\n",
       "      <td>Non-binary</td>\n",
       "      <td>Mojorembun</td>\n",
       "      <td>Indonesia</td>\n",
       "      <td>Black</td>\n",
       "      <td>34115.79</td>\n",
       "      <td>PhD</td>\n",
       "    </tr>\n",
       "    <tr>\n",
       "      <th>3</th>\n",
       "      <td>4</td>\n",
       "      <td>Rossy</td>\n",
       "      <td>Hildred</td>\n",
       "      <td>93</td>\n",
       "      <td>Male</td>\n",
       "      <td>Albany</td>\n",
       "      <td>United States</td>\n",
       "      <td>Asian</td>\n",
       "      <td>4627.03</td>\n",
       "      <td>High School</td>\n",
       "    </tr>\n",
       "    <tr>\n",
       "      <th>4</th>\n",
       "      <td>5</td>\n",
       "      <td>Mable</td>\n",
       "      <td>Anthony</td>\n",
       "      <td>35</td>\n",
       "      <td>Female</td>\n",
       "      <td>Jinhua</td>\n",
       "      <td>China</td>\n",
       "      <td>Black</td>\n",
       "      <td>90157.92</td>\n",
       "      <td>Master's Degree</td>\n",
       "    </tr>\n",
       "  </tbody>\n",
       "</table>\n",
       "</div>"
      ],
      "text/plain": [
       "   id first_name last_name  age      gender        city        country  \\\n",
       "0   1     Pavlov     Arber   93        Male      Olival       Portugal   \n",
       "1   2      Sylas     Timbs   22        Male   Jönköping         Sweden   \n",
       "2   3     Turner  Mountjoy   67  Non-binary  Mojorembun      Indonesia   \n",
       "3   4      Rossy   Hildred   93        Male      Albany  United States   \n",
       "4   5      Mable   Anthony   35      Female      Jinhua          China   \n",
       "\n",
       "  ethnicity     income     education_level  \n",
       "0     White  349833.30  Associate's Degree  \n",
       "1  Hispanic  501974.28         High School  \n",
       "2     Black   34115.79                 PhD  \n",
       "3     Asian    4627.03         High School  \n",
       "4     Black   90157.92     Master's Degree  "
      ]
     },
     "execution_count": 2,
     "metadata": {},
     "output_type": "execute_result"
    }
   ],
   "source": [
    "df = pd.read_csv('MOCK_DATA (2).csv')\n",
    "df.head()"
   ]
  },
  {
   "cell_type": "code",
   "execution_count": 13,
   "metadata": {},
   "outputs": [
    {
     "name": "stdout",
     "output_type": "stream",
     "text": [
      "64.92\n"
     ]
    }
   ],
   "source": [
    "population_age_mean = np.mean(df['age'])\n",
    "print(population_age_mean)"
   ]
  },
  {
   "cell_type": "code",
   "execution_count": 11,
   "metadata": {},
   "outputs": [
    {
     "data": {
      "text/plain": [
       "np.float64(57.75)"
      ]
     },
     "execution_count": 11,
     "metadata": {},
     "output_type": "execute_result"
    }
   ],
   "source": [
    "sample_df = df.sample(n=20, random_state=42)\n",
    "s_age_mean = sample_df['age'].mean()\n",
    "s_age_mean"
   ]
  },
  {
   "cell_type": "code",
   "execution_count": 14,
   "metadata": {},
   "outputs": [
    {
     "data": {
      "text/plain": [
       "np.float64(7.170000000000002)"
      ]
     },
     "execution_count": 14,
     "metadata": {},
     "output_type": "execute_result"
    }
   ],
   "source": [
    "diff = population_age_mean - s_age_mean\n",
    "diff"
   ]
  },
  {
   "cell_type": "code",
   "execution_count": 16,
   "metadata": {},
   "outputs": [
    {
     "name": "stdout",
     "output_type": "stream",
     "text": [
      "11.044362292051758\n"
     ]
    }
   ],
   "source": [
    "pas_error = (diff/population_age_mean) * 100\n",
    "print(pas_error)"
   ]
  }
 ],
 "metadata": {
  "kernelspec": {
   "display_name": "new_env",
   "language": "python",
   "name": "python3"
  },
  "language_info": {
   "codemirror_mode": {
    "name": "ipython",
    "version": 3
   },
   "file_extension": ".py",
   "mimetype": "text/x-python",
   "name": "python",
   "nbconvert_exporter": "python",
   "pygments_lexer": "ipython3",
   "version": "3.11.7"
  }
 },
 "nbformat": 4,
 "nbformat_minor": 2
}
